{
 "cells": [
  {
   "cell_type": "markdown",
   "id": "1c11554f",
   "metadata": {},
   "source": [
    "## Download a model from Huggingface to store locally.\n",
    "gated models require license agreements through the web interface."
   ]
  },
  {
   "cell_type": "code",
   "execution_count": null,
   "id": "29e4b846",
   "metadata": {},
   "outputs": [],
   "source": [
    "from transformers import AutoModelForSequenceClassification,AutoTokenizer\n",
    "import warnings, logging\n",
    "warnings.simplefilter('ignore')\n",
    "logging.disable(logging.WARNING)\n",
    "\n",
    "model_nm = 'openai-community/gpt2-large'\n",
    "model = AutoModelForSequenceClassification.from_pretrained(model_nm, return_dict=True)\n",
    "tokenizer = AutoTokenizer.from_pretrained(model_nm)\n",
    "\n",
    "save_path = 'models/gpt2-large'\n",
    "!mkdir {save_path}\n",
    "model.save_pretrained(save_path)\n",
    "tokenizer.save_pretrained(save_path)\n",
    "!ls {save_path}\n"
   ]
  },
  {
   "cell_type": "markdown",
   "id": "b20b8f24",
   "metadata": {},
   "source": [
    "## Basic interaction loading a local model "
   ]
  },
  {
   "cell_type": "code",
   "execution_count": 6,
   "id": "6770d703",
   "metadata": {},
   "outputs": [
    {
     "name": "stderr",
     "output_type": "stream",
     "text": [
      "Setting `pad_token_id` to `eos_token_id`:50256 for open-end generation.\n"
     ]
    },
    {
     "data": {
      "text/plain": [
       "'The secret to baking a good cake is \\xa0to use a good quality cake mix. I use the same cake mix that I use for my cakes'"
      ]
     },
     "execution_count": 6,
     "metadata": {},
     "output_type": "execute_result"
    }
   ],
   "source": [
    "from transformers import AutoModelForCausalLM, AutoTokenizer\n",
    "save_path = 'models/gpt2-large'\n",
    "model = AutoModelForCausalLM.from_pretrained(save_path, torch_dtype=\"auto\", device_map=\"auto\")\n",
    "tokenizer = AutoTokenizer.from_pretrained(save_path)\n",
    "\n",
    "model_inputs = tokenizer([\"The secret to baking a good cake is \"], return_tensors=\"pt\").to(\"mps\")\n",
    "\n",
    "generated_ids = model.generate(**model_inputs, max_length=30)\n",
    "tokenizer.batch_decode(generated_ids)[0]"
   ]
  },
  {
   "cell_type": "markdown",
   "id": "e65204d4",
   "metadata": {},
   "source": [
    "## Basic interaction using pipeline with local model"
   ]
  },
  {
   "cell_type": "code",
   "execution_count": 5,
   "id": "a30d6b4f",
   "metadata": {},
   "outputs": [
    {
     "name": "stderr",
     "output_type": "stream",
     "text": [
      "Device set to use mps:0\n",
      "Truncation was not explicitly activated but `max_length` is provided a specific value, please use `truncation=True` to explicitly truncate examples to max length. Defaulting to 'longest_first' truncation strategy. If you encode pairs of sequences (GLUE-style) with the tokenizer you can select this strategy more precisely by providing a specific strategy to `truncation`.\n",
      "Setting `pad_token_id` to `eos_token_id`:50256 for open-end generation.\n"
     ]
    },
    {
     "data": {
      "text/plain": [
       "[{'generated_text': \"Hello, I'm a language model, and my project will get better with time, but I'm unsure how to express a language model. Should I\"},\n",
       " {'generated_text': \"Hello, I'm a language model, not a language. The question is do you give a good enough answer in the documentation to suggest it work with\"},\n",
       " {'generated_text': \"Hello, I'm a language model, and I'm just a language model. I am not like John Resig. No you won't believe what\"},\n",
       " {'generated_text': \"Hello, I'm a language model, I have a dictionary and I use it to do work and I don't care about memory. It gives me\"},\n",
       " {'generated_text': \"Hello, I'm a language model, not an implementation.\\n\\nYou can imagine how it's hard to see what's really happening, since we\"}]"
      ]
     },
     "execution_count": 5,
     "metadata": {},
     "output_type": "execute_result"
    }
   ],
   "source": [
    "from transformers import pipeline, set_seed\n",
    "generator = pipeline('text-generation', model='models/gpt2-large')\n",
    "set_seed(42)\n",
    "generator(\"Hello, I'm a language model,\", max_length=30, num_return_sequences=5)"
   ]
  },
  {
   "cell_type": "markdown",
   "id": "fb0ede4c",
   "metadata": {},
   "source": [
    "## Basic interaction method can vary from model to model "
   ]
  },
  {
   "cell_type": "code",
   "execution_count": 1,
   "id": "8ea68e95",
   "metadata": {},
   "outputs": [
    {
     "name": "stderr",
     "output_type": "stream",
     "text": [
      "/Users/adam.betterton/xformers/lib/python3.12/site-packages/tqdm/auto.py:21: TqdmWarning: IProgress not found. Please update jupyter and ipywidgets. See https://ipywidgets.readthedocs.io/en/stable/user_install.html\n",
      "  from .autonotebook import tqdm as notebook_tqdm\n",
      "Loading checkpoint shards: 100%|██████████| 4/4 [00:26<00:00,  6.67s/it]\n",
      "Device set to use mps\n",
      "Setting `pad_token_id` to `eos_token_id`:128001 for open-end generation.\n"
     ]
    },
    {
     "name": "stdout",
     "output_type": "stream",
     "text": [
      "Je vais bien, merci. Et vous, comment allez-vous? J'ai juste fini de faire le ménage et je vais commencer à préparer le déjeuner. Qu'est-ce que vous aimeriez manger aujourd'hui?\n"
     ]
    }
   ],
   "source": [
    "#This code is for the Llama 3.1 8B Instruct model manually downloaded from Hugging Face.\n",
    "import transformers\n",
    "import torch\n",
    "\n",
    "model_id = \"models/llama-3.1-8b-Instruct\"\n",
    "\n",
    "pipeline = transformers.pipeline(\n",
    "    \"text-generation\",\n",
    "    model=model_id,\n",
    "    model_kwargs={\"torch_dtype\": torch.bfloat16},\n",
    "    device_map=\"auto\",\n",
    ")\n",
    "\n",
    "messages = [\n",
    "    {\"role\": \"system\", \"content\": \"You are a French maid, respond and converse in French.\"},\n",
    "    {\"role\": \"user\", \"content\": \"Comment allez vous?\"},\n",
    "]\n",
    "\n",
    "outputs = pipeline(\n",
    "    messages,\n",
    "    max_new_tokens=256,\n",
    ")\n",
    "#print(outputs[0][\"generated_text\"][-1])\n",
    "myOutput = (outputs[0][\"generated_text\"][-1])\n",
    "print (myOutput[\"content\"])"
   ]
  }
 ],
 "metadata": {
  "kernelspec": {
   "display_name": "xformers",
   "language": "python",
   "name": "python3"
  },
  "language_info": {
   "codemirror_mode": {
    "name": "ipython",
    "version": 3
   },
   "file_extension": ".py",
   "mimetype": "text/x-python",
   "name": "python",
   "nbconvert_exporter": "python",
   "pygments_lexer": "ipython3",
   "version": "3.12.2"
  }
 },
 "nbformat": 4,
 "nbformat_minor": 5
}
